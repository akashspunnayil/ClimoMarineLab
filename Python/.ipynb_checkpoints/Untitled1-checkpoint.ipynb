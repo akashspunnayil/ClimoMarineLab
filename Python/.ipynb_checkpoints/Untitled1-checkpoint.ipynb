{
 "cells": [
  {
   "cell_type": "code",
   "execution_count": 2,
   "id": "d7fbd7b1",
   "metadata": {},
   "outputs": [
    {
     "name": "stdout",
     "output_type": "stream",
     "text": [
      "Requirement already satisfied: plotly in /home/akashs/miniconda3/lib/python3.8/site-packages (5.13.0)\r\n",
      "Requirement already satisfied: tenacity>=6.2.0 in /home/akashs/miniconda3/lib/python3.8/site-packages (from plotly) (8.1.0)\r\n"
     ]
    }
   ],
   "source": [
    "!pip install plotly\n"
   ]
  },
  {
   "cell_type": "code",
   "execution_count": 3,
   "id": "20f55b8c",
   "metadata": {},
   "outputs": [
    {
     "ename": "ModuleNotFoundError",
     "evalue": "No module named 'plotly'",
     "output_type": "error",
     "traceback": [
      "\u001b[0;31m---------------------------------------------------------------------------\u001b[0m",
      "\u001b[0;31mModuleNotFoundError\u001b[0m                       Traceback (most recent call last)",
      "Cell \u001b[0;32mIn [3], line 2\u001b[0m\n\u001b[1;32m      1\u001b[0m \u001b[38;5;28;01mimport\u001b[39;00m \u001b[38;5;21;01mxarray\u001b[39;00m \u001b[38;5;28;01mas\u001b[39;00m \u001b[38;5;21;01mxr\u001b[39;00m\n\u001b[0;32m----> 2\u001b[0m \u001b[38;5;28;01mimport\u001b[39;00m \u001b[38;5;21;01mplotly\u001b[39;00m\u001b[38;5;21;01m.\u001b[39;00m\u001b[38;5;21;01mexpress\u001b[39;00m \u001b[38;5;28;01mas\u001b[39;00m \u001b[38;5;21;01mpx\u001b[39;00m\n\u001b[1;32m      3\u001b[0m \u001b[38;5;28;01mimport\u001b[39;00m \u001b[38;5;21;01mpandas\u001b[39;00m \u001b[38;5;28;01mas\u001b[39;00m \u001b[38;5;21;01mpd\u001b[39;00m\n\u001b[1;32m      5\u001b[0m \u001b[38;5;66;03m# Load NetCDF data\u001b[39;00m\n",
      "\u001b[0;31mModuleNotFoundError\u001b[0m: No module named 'plotly'"
     ]
    }
   ],
   "source": [
    "import xarray as xr\n",
    "import plotly.express as px\n",
    "import pandas as pd\n",
    "\n",
    "# Load NetCDF data\n",
    "data_file = './data/sst_06.nc'\n",
    "ds = xr.open_dataset(data_file)\n",
    "\n",
    "# Extract variables\n",
    "sst = ds['SST'].isel(time=0)  # Select the first time step if it's a time series\n",
    "lon = ds['LON2504_2959']\n",
    "lat = ds['LAT1025_1366']\n",
    "\n",
    "# Convert to pandas DataFrame for plotly\n",
    "df = pd.DataFrame({\n",
    "    'Longitude': lon.values.flatten(),\n",
    "    'Latitude': lat.values.flatten(),\n",
    "    'SST': sst.values.flatten()\n",
    "})\n",
    "\n",
    "# Create an interactive map using plotly\n",
    "fig = px.scatter_geo(df,\n",
    "                     lon='Longitude',\n",
    "                     lat='Latitude',\n",
    "                     color='SST',\n",
    "                     color_continuous_scale='Viridis',\n",
    "                     title='Sea Surface Temperature',\n",
    "                     labels={'SST': 'Sea Surface Temperature (°C)'},\n",
    "                     projection='natural earth')\n",
    "\n",
    "# Show the interactive plot\n",
    "fig.show()\n"
   ]
  },
  {
   "cell_type": "code",
   "execution_count": null,
   "id": "bb12c984",
   "metadata": {},
   "outputs": [],
   "source": []
  }
 ],
 "metadata": {
  "kernelspec": {
   "display_name": "Python 3 (ipykernel)",
   "language": "python",
   "name": "python3"
  },
  "language_info": {
   "codemirror_mode": {
    "name": "ipython",
    "version": 3
   },
   "file_extension": ".py",
   "mimetype": "text/x-python",
   "name": "python",
   "nbconvert_exporter": "python",
   "pygments_lexer": "ipython3",
   "version": "3.8.10"
  }
 },
 "nbformat": 4,
 "nbformat_minor": 5
}
